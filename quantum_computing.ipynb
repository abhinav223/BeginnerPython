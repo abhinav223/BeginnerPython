{
  "nbformat": 4,
  "nbformat_minor": 0,
  "metadata": {
    "colab": {
      "name": "Copy of Welcome To Colaboratory",
      "version": "0.3.2",
      "provenance": [],
      "collapsed_sections": [],
      "toc_visible": true,
      "include_colab_link": true
    },
    "kernelspec": {
      "display_name": "Python 3",
      "name": "python3"
    }
  },
  "cells": [
    {
      "cell_type": "markdown",
      "metadata": {
        "id": "view-in-github",
        "colab_type": "text"
      },
      "source": [
        "<a href=\"https://colab.research.google.com/github/abhinav223/BeginnerPython/blob/master/quantum_computing.ipynb\" target=\"_parent\"><img src=\"https://colab.research.google.com/assets/colab-badge.svg\" alt=\"Open In Colab\"/></a>"
      ]
    },
    {
      "cell_type": "code",
      "metadata": {
        "id": "OGyVIHcOc_es",
        "colab_type": "code",
        "outputId": "dfced719-612a-4530-ab2d-ffc42e781b0d",
        "colab": {
          "base_uri": "https://localhost:8080/",
          "height": 1000
        }
      },
      "source": [
        "pip install qiskit"
      ],
      "execution_count": 0,
      "outputs": [
        {
          "output_type": "stream",
          "text": [
            "Collecting qiskit\n",
            "  Downloading https://files.pythonhosted.org/packages/5a/d6/bbb178455616d8aabd4d9df5110681d847da8303d3bd81d856fc14f929eb/qiskit-0.12.0.tar.gz\n",
            "Collecting qiskit_terra==0.9.0 (from qiskit)\n",
            "\u001b[?25l  Downloading https://files.pythonhosted.org/packages/02/af/d41b625d00621e346844503cb1c27e3b0f9e5469e702276e5c1dfb236d03/qiskit_terra-0.9.0-cp36-cp36m-manylinux1_x86_64.whl (1.6MB)\n",
            "\r\u001b[K     |▏                               | 10kB 14.7MB/s eta 0:00:01\r\u001b[K     |▍                               | 20kB 3.0MB/s eta 0:00:01\r\u001b[K     |▋                               | 30kB 4.3MB/s eta 0:00:01\r\u001b[K     |▉                               | 40kB 2.9MB/s eta 0:00:01\r\u001b[K     |█                               | 51kB 3.6MB/s eta 0:00:01\r\u001b[K     |█▎                              | 61kB 4.3MB/s eta 0:00:01\r\u001b[K     |█▌                              | 71kB 4.9MB/s eta 0:00:01\r\u001b[K     |█▊                              | 81kB 3.9MB/s eta 0:00:01\r\u001b[K     |█▉                              | 92kB 4.3MB/s eta 0:00:01\r\u001b[K     |██                              | 102kB 4.7MB/s eta 0:00:01\r\u001b[K     |██▎                             | 112kB 4.7MB/s eta 0:00:01\r\u001b[K     |██▌                             | 122kB 4.7MB/s eta 0:00:01\r\u001b[K     |██▊                             | 133kB 4.7MB/s eta 0:00:01\r\u001b[K     |███                             | 143kB 4.7MB/s eta 0:00:01\r\u001b[K     |███▏                            | 153kB 4.7MB/s eta 0:00:01\r\u001b[K     |███▍                            | 163kB 4.7MB/s eta 0:00:01\r\u001b[K     |███▋                            | 174kB 4.7MB/s eta 0:00:01\r\u001b[K     |███▊                            | 184kB 4.7MB/s eta 0:00:01\r\u001b[K     |████                            | 194kB 4.7MB/s eta 0:00:01\r\u001b[K     |████▏                           | 204kB 4.7MB/s eta 0:00:01\r\u001b[K     |████▍                           | 215kB 4.7MB/s eta 0:00:01\r\u001b[K     |████▋                           | 225kB 4.7MB/s eta 0:00:01\r\u001b[K     |████▉                           | 235kB 4.7MB/s eta 0:00:01\r\u001b[K     |█████                           | 245kB 4.7MB/s eta 0:00:01\r\u001b[K     |█████▎                          | 256kB 4.7MB/s eta 0:00:01\r\u001b[K     |█████▌                          | 266kB 4.7MB/s eta 0:00:01\r\u001b[K     |█████▋                          | 276kB 4.7MB/s eta 0:00:01\r\u001b[K     |█████▉                          | 286kB 4.7MB/s eta 0:00:01\r\u001b[K     |██████                          | 296kB 4.7MB/s eta 0:00:01\r\u001b[K     |██████▎                         | 307kB 4.7MB/s eta 0:00:01\r\u001b[K     |██████▌                         | 317kB 4.7MB/s eta 0:00:01\r\u001b[K     |██████▊                         | 327kB 4.7MB/s eta 0:00:01\r\u001b[K     |███████                         | 337kB 4.7MB/s eta 0:00:01\r\u001b[K     |███████▏                        | 348kB 4.7MB/s eta 0:00:01\r\u001b[K     |███████▍                        | 358kB 4.7MB/s eta 0:00:01\r\u001b[K     |███████▌                        | 368kB 4.7MB/s eta 0:00:01\r\u001b[K     |███████▊                        | 378kB 4.7MB/s eta 0:00:01\r\u001b[K     |████████                        | 389kB 4.7MB/s eta 0:00:01\r\u001b[K     |████████▏                       | 399kB 4.7MB/s eta 0:00:01\r\u001b[K     |████████▍                       | 409kB 4.7MB/s eta 0:00:01\r\u001b[K     |████████▋                       | 419kB 4.7MB/s eta 0:00:01\r\u001b[K     |████████▉                       | 430kB 4.7MB/s eta 0:00:01\r\u001b[K     |█████████                       | 440kB 4.7MB/s eta 0:00:01\r\u001b[K     |█████████▎                      | 450kB 4.7MB/s eta 0:00:01\r\u001b[K     |█████████▍                      | 460kB 4.7MB/s eta 0:00:01\r\u001b[K     |█████████▋                      | 471kB 4.7MB/s eta 0:00:01\r\u001b[K     |█████████▉                      | 481kB 4.7MB/s eta 0:00:01\r\u001b[K     |██████████                      | 491kB 4.7MB/s eta 0:00:01\r\u001b[K     |██████████▎                     | 501kB 4.7MB/s eta 0:00:01\r\u001b[K     |██████████▌                     | 512kB 4.7MB/s eta 0:00:01\r\u001b[K     |██████████▊                     | 522kB 4.7MB/s eta 0:00:01\r\u001b[K     |███████████                     | 532kB 4.7MB/s eta 0:00:01\r\u001b[K     |███████████▏                    | 542kB 4.7MB/s eta 0:00:01\r\u001b[K     |███████████▎                    | 552kB 4.7MB/s eta 0:00:01\r\u001b[K     |███████████▌                    | 563kB 4.7MB/s eta 0:00:01\r\u001b[K     |███████████▊                    | 573kB 4.7MB/s eta 0:00:01\r\u001b[K     |████████████                    | 583kB 4.7MB/s eta 0:00:01\r\u001b[K     |████████████▏                   | 593kB 4.7MB/s eta 0:00:01\r\u001b[K     |████████████▍                   | 604kB 4.7MB/s eta 0:00:01\r\u001b[K     |████████████▋                   | 614kB 4.7MB/s eta 0:00:01\r\u001b[K     |████████████▉                   | 624kB 4.7MB/s eta 0:00:01\r\u001b[K     |█████████████                   | 634kB 4.7MB/s eta 0:00:01\r\u001b[K     |█████████████▏                  | 645kB 4.7MB/s eta 0:00:01\r\u001b[K     |█████████████▍                  | 655kB 4.7MB/s eta 0:00:01\r\u001b[K     |█████████████▋                  | 665kB 4.7MB/s eta 0:00:01\r\u001b[K     |█████████████▉                  | 675kB 4.7MB/s eta 0:00:01\r\u001b[K     |██████████████                  | 686kB 4.7MB/s eta 0:00:01\r\u001b[K     |██████████████▎                 | 696kB 4.7MB/s eta 0:00:01\r\u001b[K     |██████████████▌                 | 706kB 4.7MB/s eta 0:00:01\r\u001b[K     |██████████████▊                 | 716kB 4.7MB/s eta 0:00:01\r\u001b[K     |██████████████▉                 | 727kB 4.7MB/s eta 0:00:01\r\u001b[K     |███████████████                 | 737kB 4.7MB/s eta 0:00:01\r\u001b[K     |███████████████▎                | 747kB 4.7MB/s eta 0:00:01\r\u001b[K     |███████████████▌                | 757kB 4.7MB/s eta 0:00:01\r\u001b[K     |███████████████▊                | 768kB 4.7MB/s eta 0:00:01\r\u001b[K     |████████████████                | 778kB 4.7MB/s eta 0:00:01\r\u001b[K     |████████████████▏               | 788kB 4.7MB/s eta 0:00:01\r\u001b[K     |████████████████▍               | 798kB 4.7MB/s eta 0:00:01\r\u001b[K     |████████████████▋               | 808kB 4.7MB/s eta 0:00:01\r\u001b[K     |████████████████▊               | 819kB 4.7MB/s eta 0:00:01\r\u001b[K     |█████████████████               | 829kB 4.7MB/s eta 0:00:01\r\u001b[K     |█████████████████▏              | 839kB 4.7MB/s eta 0:00:01\r\u001b[K     |█████████████████▍              | 849kB 4.7MB/s eta 0:00:01\r\u001b[K     |█████████████████▋              | 860kB 4.7MB/s eta 0:00:01\r\u001b[K     |█████████████████▉              | 870kB 4.7MB/s eta 0:00:01\r\u001b[K     |██████████████████              | 880kB 4.7MB/s eta 0:00:01\r\u001b[K     |██████████████████▎             | 890kB 4.7MB/s eta 0:00:01\r\u001b[K     |██████████████████▌             | 901kB 4.7MB/s eta 0:00:01\r\u001b[K     |██████████████████▋             | 911kB 4.7MB/s eta 0:00:01\r\u001b[K     |██████████████████▉             | 921kB 4.7MB/s eta 0:00:01\r\u001b[K     |███████████████████             | 931kB 4.7MB/s eta 0:00:01\r\u001b[K     |███████████████████▎            | 942kB 4.7MB/s eta 0:00:01\r\u001b[K     |███████████████████▌            | 952kB 4.7MB/s eta 0:00:01\r\u001b[K     |███████████████████▊            | 962kB 4.7MB/s eta 0:00:01\r\u001b[K     |████████████████████            | 972kB 4.7MB/s eta 0:00:01\r\u001b[K     |████████████████████▏           | 983kB 4.7MB/s eta 0:00:01\r\u001b[K     |████████████████████▍           | 993kB 4.7MB/s eta 0:00:01\r\u001b[K     |████████████████████▌           | 1.0MB 4.7MB/s eta 0:00:01\r\u001b[K     |████████████████████▊           | 1.0MB 4.7MB/s eta 0:00:01\r\u001b[K     |█████████████████████           | 1.0MB 4.7MB/s eta 0:00:01\r\u001b[K     |█████████████████████▏          | 1.0MB 4.7MB/s eta 0:00:01\r\u001b[K     |█████████████████████▍          | 1.0MB 4.7MB/s eta 0:00:01\r\u001b[K     |█████████████████████▋          | 1.1MB 4.7MB/s eta 0:00:01\r\u001b[K     |█████████████████████▉          | 1.1MB 4.7MB/s eta 0:00:01\r\u001b[K     |██████████████████████          | 1.1MB 4.7MB/s eta 0:00:01\r\u001b[K     |██████████████████████▎         | 1.1MB 4.7MB/s eta 0:00:01\r\u001b[K     |██████████████████████▍         | 1.1MB 4.7MB/s eta 0:00:01\r\u001b[K     |██████████████████████▋         | 1.1MB 4.7MB/s eta 0:00:01\r\u001b[K     |██████████████████████▉         | 1.1MB 4.7MB/s eta 0:00:01\r\u001b[K     |███████████████████████         | 1.1MB 4.7MB/s eta 0:00:01\r\u001b[K     |███████████████████████▎        | 1.1MB 4.7MB/s eta 0:00:01\r\u001b[K     |███████████████████████▌        | 1.1MB 4.7MB/s eta 0:00:01\r\u001b[K     |███████████████████████▊        | 1.2MB 4.7MB/s eta 0:00:01\r\u001b[K     |████████████████████████        | 1.2MB 4.7MB/s eta 0:00:01\r\u001b[K     |████████████████████████▏       | 1.2MB 4.7MB/s eta 0:00:01\r\u001b[K     |████████████████████████▎       | 1.2MB 4.7MB/s eta 0:00:01\r\u001b[K     |████████████████████████▌       | 1.2MB 4.7MB/s eta 0:00:01\r\u001b[K     |████████████████████████▊       | 1.2MB 4.7MB/s eta 0:00:01\r\u001b[K     |█████████████████████████       | 1.2MB 4.7MB/s eta 0:00:01\r\u001b[K     |█████████████████████████▏      | 1.2MB 4.7MB/s eta 0:00:01\r\u001b[K     |█████████████████████████▍      | 1.2MB 4.7MB/s eta 0:00:01\r\u001b[K     |█████████████████████████▋      | 1.2MB 4.7MB/s eta 0:00:01\r\u001b[K     |█████████████████████████▉      | 1.3MB 4.7MB/s eta 0:00:01\r\u001b[K     |██████████████████████████      | 1.3MB 4.7MB/s eta 0:00:01\r\u001b[K     |██████████████████████████▏     | 1.3MB 4.7MB/s eta 0:00:01\r\u001b[K     |██████████████████████████▍     | 1.3MB 4.7MB/s eta 0:00:01\r\u001b[K     |██████████████████████████▋     | 1.3MB 4.7MB/s eta 0:00:01\r\u001b[K     |██████████████████████████▉     | 1.3MB 4.7MB/s eta 0:00:01\r\u001b[K     |███████████████████████████     | 1.3MB 4.7MB/s eta 0:00:01\r\u001b[K     |███████████████████████████▎    | 1.3MB 4.7MB/s eta 0:00:01\r\u001b[K     |███████████████████████████▌    | 1.3MB 4.7MB/s eta 0:00:01\r\u001b[K     |███████████████████████████▊    | 1.4MB 4.7MB/s eta 0:00:01\r\u001b[K     |████████████████████████████    | 1.4MB 4.7MB/s eta 0:00:01\r\u001b[K     |████████████████████████████    | 1.4MB 4.7MB/s eta 0:00:01\r\u001b[K     |████████████████████████████▎   | 1.4MB 4.7MB/s eta 0:00:01\r\u001b[K     |████████████████████████████▌   | 1.4MB 4.7MB/s eta 0:00:01\r\u001b[K     |████████████████████████████▊   | 1.4MB 4.7MB/s eta 0:00:01\r\u001b[K     |█████████████████████████████   | 1.4MB 4.7MB/s eta 0:00:01\r\u001b[K     |█████████████████████████████▏  | 1.4MB 4.7MB/s eta 0:00:01\r\u001b[K     |█████████████████████████████▍  | 1.4MB 4.7MB/s eta 0:00:01\r\u001b[K     |█████████████████████████████▋  | 1.4MB 4.7MB/s eta 0:00:01\r\u001b[K     |█████████████████████████████▊  | 1.5MB 4.7MB/s eta 0:00:01\r\u001b[K     |██████████████████████████████  | 1.5MB 4.7MB/s eta 0:00:01\r\u001b[K     |██████████████████████████████▏ | 1.5MB 4.7MB/s eta 0:00:01\r\u001b[K     |██████████████████████████████▍ | 1.5MB 4.7MB/s eta 0:00:01\r\u001b[K     |██████████████████████████████▋ | 1.5MB 4.7MB/s eta 0:00:01\r\u001b[K     |██████████████████████████████▉ | 1.5MB 4.7MB/s eta 0:00:01\r\u001b[K     |███████████████████████████████ | 1.5MB 4.7MB/s eta 0:00:01\r\u001b[K     |███████████████████████████████▎| 1.5MB 4.7MB/s eta 0:00:01\r\u001b[K     |███████████████████████████████▌| 1.5MB 4.7MB/s eta 0:00:01\r\u001b[K     |███████████████████████████████▋| 1.5MB 4.7MB/s eta 0:00:01\r\u001b[K     |███████████████████████████████▉| 1.6MB 4.7MB/s eta 0:00:01\r\u001b[K     |████████████████████████████████| 1.6MB 4.7MB/s \n",
            "\u001b[?25hCollecting qiskit-aer==0.3.0 (from qiskit)\n",
            "\u001b[?25l  Downloading https://files.pythonhosted.org/packages/6f/0e/1d7668ffafb85b373bc8681f3f6adffacd957a258a4a7211178cfc7e8559/qiskit_aer-0.3.0-cp36-cp36m-manylinux1_x86_64.whl (21.6MB)\n",
            "\u001b[K     |████████████████████████████████| 21.6MB 1.3MB/s \n",
            "\u001b[?25hCollecting qiskit-ibmq-provider==0.3.2 (from qiskit)\n",
            "\u001b[?25l  Downloading https://files.pythonhosted.org/packages/bb/eb/9c3e007c625b136c66a3f6da73f682f6ec32f6ee8274d998d84ec51cf3be/qiskit_ibmq_provider-0.3.2-py3-none-any.whl (85kB)\n",
            "\u001b[K     |████████████████████████████████| 92kB 29.3MB/s \n",
            "\u001b[?25hCollecting qiskit-ignis==0.2.0 (from qiskit)\n",
            "\u001b[?25l  Downloading https://files.pythonhosted.org/packages/78/f2/f4f89c65d2c13f473092f7e800519836611ddeeaab8d4591a70555b26a37/qiskit_ignis-0.2.0-py3-none-any.whl (100kB)\n",
            "\u001b[K     |████████████████████████████████| 102kB 39.7MB/s \n",
            "\u001b[?25hCollecting qiskit-aqua==0.6.0 (from qiskit)\n",
            "\u001b[?25l  Downloading https://files.pythonhosted.org/packages/5f/c0/894d00f156458edc5fd0dd559c07889c4bb3c8ca9ea17c921737bfcad6d9/qiskit_aqua-0.6.0-py3-none-any.whl (979kB)\n",
            "\u001b[K     |████████████████████████████████| 983kB 53.6MB/s \n",
            "\u001b[?25hCollecting sympy>=1.3 (from qiskit_terra==0.9.0->qiskit)\n",
            "\u001b[?25l  Downloading https://files.pythonhosted.org/packages/21/21/f4105795ca7f35c541d82c5b06be684dd2f5cb4f508fb487cd7aea4de776/sympy-1.4-py2.py3-none-any.whl (5.3MB)\n",
            "\u001b[K     |████████████████████████████████| 5.3MB 54.3MB/s \n",
            "\u001b[?25hRequirement already satisfied: scipy>=1.0 in /usr/local/lib/python3.6/dist-packages (from qiskit_terra==0.9.0->qiskit) (1.3.1)\n",
            "Requirement already satisfied: numpy>=1.13 in /usr/local/lib/python3.6/dist-packages (from qiskit_terra==0.9.0->qiskit) (1.16.5)\n",
            "Requirement already satisfied: networkx>=2.2 in /usr/local/lib/python3.6/dist-packages (from qiskit_terra==0.9.0->qiskit) (2.3)\n",
            "Collecting marshmallow-polyfield<4,>=3.2 (from qiskit_terra==0.9.0->qiskit)\n",
            "  Downloading https://files.pythonhosted.org/packages/fa/ba/6406b8cce3e42b2838d234310c3605627083bbb8f71dcc312c616480fe92/marshmallow_polyfield-3.2-py2.py3-none-any.whl\n",
            "Requirement already satisfied: jsonschema<2.7,>=2.6 in /usr/local/lib/python3.6/dist-packages (from qiskit_terra==0.9.0->qiskit) (2.6.0)\n",
            "Collecting ply>=3.10 (from qiskit_terra==0.9.0->qiskit)\n",
            "\u001b[?25l  Downloading https://files.pythonhosted.org/packages/a3/58/35da89ee790598a0700ea49b2a66594140f44dec458c07e8e3d4979137fc/ply-3.11-py2.py3-none-any.whl (49kB)\n",
            "\u001b[K     |████████████████████████████████| 51kB 24.5MB/s \n",
            "\u001b[?25hRequirement already satisfied: psutil>=5 in /usr/local/lib/python3.6/dist-packages (from qiskit_terra==0.9.0->qiskit) (5.4.8)\n",
            "Collecting marshmallow<3,>=2.17.0 (from qiskit_terra==0.9.0->qiskit)\n",
            "\u001b[?25l  Downloading https://files.pythonhosted.org/packages/45/1c/8bcd49a62807c3df330dc470a4e04060d0437015e9a078e1968aba93c645/marshmallow-2.20.3-py2.py3-none-any.whl (50kB)\n",
            "\u001b[K     |████████████████████████████████| 51kB 25.4MB/s \n",
            "\u001b[?25hCollecting websockets<8,>=7 (from qiskit-ibmq-provider==0.3.2->qiskit)\n",
            "\u001b[?25l  Downloading https://files.pythonhosted.org/packages/43/71/8bfa882b9c502c36e5c9ef6732969533670d2b039cbf95a82ced8f762b80/websockets-7.0-cp36-cp36m-manylinux1_x86_64.whl (63kB)\n",
            "\u001b[K     |████████████████████████████████| 71kB 31.0MB/s \n",
            "\u001b[?25hCollecting nest-asyncio==1.0.0 (from qiskit-ibmq-provider==0.3.2->qiskit)\n",
            "  Downloading https://files.pythonhosted.org/packages/62/18/4c6a895c925e8822e72535d774861e9ca07089c4b938ed20002b1aaab66a/nest_asyncio-1.0.0-py3-none-any.whl\n",
            "Requirement already satisfied: requests>=2.19 in /usr/local/lib/python3.6/dist-packages (from qiskit-ibmq-provider==0.3.2->qiskit) (2.21.0)\n",
            "Collecting requests-ntlm>=1.1.0 (from qiskit-ibmq-provider==0.3.2->qiskit)\n",
            "  Downloading https://files.pythonhosted.org/packages/03/4b/8b9a1afde8072c4d5710d9fa91433d504325821b038e00237dc8d6d833dc/requests_ntlm-1.1.0-py2.py3-none-any.whl\n",
            "Requirement already satisfied: setuptools>=40.1.0 in /usr/local/lib/python3.6/dist-packages (from qiskit-ignis==0.2.0->qiskit) (41.2.0)\n",
            "Collecting docplex (from qiskit-aqua==0.6.0->qiskit)\n",
            "\u001b[?25l  Downloading https://files.pythonhosted.org/packages/fb/b9/37d68e68bbb46625a283c6b900989934538d5fb2ae6e7748288641fbac30/docplex-2.10.155.tar.gz (529kB)\n",
            "\u001b[K     |████████████████████████████████| 532kB 54.1MB/s \n",
            "\u001b[?25hRequirement already satisfied: fastdtw in /usr/local/lib/python3.6/dist-packages (from qiskit-aqua==0.6.0->qiskit) (0.3.2)\n",
            "Collecting pyscf; sys_platform != \"win32\" (from qiskit-aqua==0.6.0->qiskit)\n",
            "\u001b[?25l  Downloading https://files.pythonhosted.org/packages/32/68/4ed8ee5f0d6befde0a7a345a359fee0958ab5ae82bef62ddefa974458efa/pyscf-1.6.3-cp36-cp36m-manylinux1_x86_64.whl (21.5MB)\n",
            "\u001b[K     |████████████████████████████████| 21.5MB 44.1MB/s \n",
            "\u001b[?25hCollecting quandl (from qiskit-aqua==0.6.0->qiskit)\n",
            "  Downloading https://files.pythonhosted.org/packages/12/64/6314547cb01fa75697ddba6d6d43a9f1d023c1730ffc6abf3db7a0c89222/Quandl-3.4.8-py2.py3-none-any.whl\n",
            "Requirement already satisfied: cvxopt in /usr/local/lib/python3.6/dist-packages (from qiskit-aqua==0.6.0->qiskit) (1.2.3)\n",
            "Collecting dlx (from qiskit-aqua==0.6.0->qiskit)\n",
            "  Downloading https://files.pythonhosted.org/packages/54/c0/b8fb5bb727e983b6f5251433ef941b48f38c65bb0bd6ec509e9185bcd406/dlx-1.0.4.tar.gz\n",
            "Requirement already satisfied: h5py in /usr/local/lib/python3.6/dist-packages (from qiskit-aqua==0.6.0->qiskit) (2.8.0)\n",
            "Requirement already satisfied: scikit-learn>=0.20.0 in /usr/local/lib/python3.6/dist-packages (from qiskit-aqua==0.6.0->qiskit) (0.21.3)\n",
            "Requirement already satisfied: mpmath>=0.19 in /usr/local/lib/python3.6/dist-packages (from sympy>=1.3->qiskit_terra==0.9.0->qiskit) (1.1.0)\n",
            "Requirement already satisfied: decorator>=4.3.0 in /usr/local/lib/python3.6/dist-packages (from networkx>=2.2->qiskit_terra==0.9.0->qiskit) (4.4.0)\n",
            "Requirement already satisfied: urllib3<1.25,>=1.21.1 in /usr/local/lib/python3.6/dist-packages (from requests>=2.19->qiskit-ibmq-provider==0.3.2->qiskit) (1.24.3)\n",
            "Requirement already satisfied: chardet<3.1.0,>=3.0.2 in /usr/local/lib/python3.6/dist-packages (from requests>=2.19->qiskit-ibmq-provider==0.3.2->qiskit) (3.0.4)\n",
            "Requirement already satisfied: idna<2.9,>=2.5 in /usr/local/lib/python3.6/dist-packages (from requests>=2.19->qiskit-ibmq-provider==0.3.2->qiskit) (2.8)\n",
            "Requirement already satisfied: certifi>=2017.4.17 in /usr/local/lib/python3.6/dist-packages (from requests>=2.19->qiskit-ibmq-provider==0.3.2->qiskit) (2019.6.16)\n",
            "Collecting ntlm-auth>=1.0.2 (from requests-ntlm>=1.1.0->qiskit-ibmq-provider==0.3.2->qiskit)\n",
            "  Downloading https://files.pythonhosted.org/packages/50/09/5e397eb18685b14fd8b209e26cdb4fa6451c82c1bcc651fef05fa73e7b27/ntlm_auth-1.4.0-py2.py3-none-any.whl\n",
            "Collecting cryptography>=1.3 (from requests-ntlm>=1.1.0->qiskit-ibmq-provider==0.3.2->qiskit)\n",
            "\u001b[?25l  Downloading https://files.pythonhosted.org/packages/97/18/c6557f63a6abde34707196fb2cad1c6dc0dbff25a200d5044922496668a4/cryptography-2.7-cp34-abi3-manylinux1_x86_64.whl (2.3MB)\n",
            "\u001b[K     |████████████████████████████████| 2.3MB 40.5MB/s \n",
            "\u001b[?25hRequirement already satisfied: six in /usr/local/lib/python3.6/dist-packages (from docplex->qiskit-aqua==0.6.0->qiskit) (1.12.0)\n",
            "Collecting docloud>=1.0.369 (from docplex->qiskit-aqua==0.6.0->qiskit)\n",
            "  Downloading https://files.pythonhosted.org/packages/89/1c/fcb7ea86ae5cb7137a22f00bcaa785de2d102bd4a2b16383ec4a877a835b/docloud-1.0.375.tar.gz\n",
            "Requirement already satisfied: python-dateutil in /usr/local/lib/python3.6/dist-packages (from quandl->qiskit-aqua==0.6.0->qiskit) (2.5.3)\n",
            "Collecting pyOpenSSL (from quandl->qiskit-aqua==0.6.0->qiskit)\n",
            "\u001b[?25l  Downloading https://files.pythonhosted.org/packages/01/c8/ceb170d81bd3941cbeb9940fc6cc2ef2ca4288d0ca8929ea4db5905d904d/pyOpenSSL-19.0.0-py2.py3-none-any.whl (53kB)\n",
            "\u001b[K     |████████████████████████████████| 61kB 26.7MB/s \n",
            "\u001b[?25hCollecting ndg-httpsclient (from quandl->qiskit-aqua==0.6.0->qiskit)\n",
            "  Downloading https://files.pythonhosted.org/packages/fb/67/c2f508c00ed2a6911541494504b7cac16fe0b0473912568df65fd1801132/ndg_httpsclient-0.5.1-py3-none-any.whl\n",
            "Collecting inflection>=0.3.1 (from quandl->qiskit-aqua==0.6.0->qiskit)\n",
            "  Downloading https://files.pythonhosted.org/packages/d5/35/a6eb45b4e2356fe688b21570864d4aa0d0a880ce387defe9c589112077f8/inflection-0.3.1.tar.gz\n",
            "Requirement already satisfied: pyasn1 in /usr/local/lib/python3.6/dist-packages (from quandl->qiskit-aqua==0.6.0->qiskit) (0.4.6)\n",
            "Requirement already satisfied: pandas>=0.14 in /usr/local/lib/python3.6/dist-packages (from quandl->qiskit-aqua==0.6.0->qiskit) (0.24.2)\n",
            "Collecting more-itertools<=5.0.0 (from quandl->qiskit-aqua==0.6.0->qiskit)\n",
            "\u001b[?25l  Downloading https://files.pythonhosted.org/packages/a4/a6/42f17d065bda1fac255db13afc94c93dbfb64393eae37c749b4cb0752fc7/more_itertools-5.0.0-py3-none-any.whl (52kB)\n",
            "\u001b[K     |████████████████████████████████| 61kB 25.3MB/s \n",
            "\u001b[?25hRequirement already satisfied: joblib>=0.11 in /usr/local/lib/python3.6/dist-packages (from scikit-learn>=0.20.0->qiskit-aqua==0.6.0->qiskit) (0.13.2)\n",
            "Collecting asn1crypto>=0.21.0 (from cryptography>=1.3->requests-ntlm>=1.1.0->qiskit-ibmq-provider==0.3.2->qiskit)\n",
            "\u001b[?25l  Downloading https://files.pythonhosted.org/packages/ea/cd/35485615f45f30a510576f1a56d1e0a7ad7bd8ab5ed7cdc600ef7cd06222/asn1crypto-0.24.0-py2.py3-none-any.whl (101kB)\n",
            "\u001b[K     |████████████████████████████████| 102kB 37.0MB/s \n",
            "\u001b[?25hRequirement already satisfied: cffi!=1.11.3,>=1.8 in /usr/local/lib/python3.6/dist-packages (from cryptography>=1.3->requests-ntlm>=1.1.0->qiskit-ibmq-provider==0.3.2->qiskit) (1.12.3)\n",
            "Requirement already satisfied: pytz>=2011k in /usr/local/lib/python3.6/dist-packages (from pandas>=0.14->quandl->qiskit-aqua==0.6.0->qiskit) (2018.9)\n",
            "Requirement already satisfied: pycparser in /usr/local/lib/python3.6/dist-packages (from cffi!=1.11.3,>=1.8->cryptography>=1.3->requests-ntlm>=1.1.0->qiskit-ibmq-provider==0.3.2->qiskit) (2.19)\n",
            "Building wheels for collected packages: qiskit, docplex, dlx, docloud, inflection\n",
            "  Building wheel for qiskit (setup.py) ... \u001b[?25l\u001b[?25hdone\n",
            "  Created wheel for qiskit: filename=qiskit-0.12.0-cp36-none-any.whl size=1396 sha256=162f21594f53cf1152073e8ab37344f257cb2abb0efedaa5a452a4e7be1494b8\n",
            "  Stored in directory: /root/.cache/pip/wheels/de/fc/68/2318ad43f26583ec1ac8e30bedd43e71211c9256429b7f829c\n",
            "  Building wheel for docplex (setup.py) ... \u001b[?25l\u001b[?25hdone\n",
            "  Created wheel for docplex: filename=docplex-2.10.155-cp36-none-any.whl size=591516 sha256=1f4257b8da95c1c5b43a93f5f06f951d509b92ed822bc7d0f70c2008f0f4962e\n",
            "  Stored in directory: /root/.cache/pip/wheels/4d/29/ab/0ff88dd04d5b6a360650695db638b9f607931a1d667348a439\n",
            "  Building wheel for dlx (setup.py) ... \u001b[?25l\u001b[?25hdone\n",
            "  Created wheel for dlx: filename=dlx-1.0.4-cp36-none-any.whl size=5710 sha256=a8d020a25780e40834ff1cf2a7b62536cb7ddd618c388dfd560ab446c7b493de\n",
            "  Stored in directory: /root/.cache/pip/wheels/bb/ba/15/fdd0deb104df3254912998150ba9245668db06b00af5912d1a\n",
            "  Building wheel for docloud (setup.py) ... \u001b[?25l\u001b[?25hdone\n",
            "  Created wheel for docloud: filename=docloud-1.0.375-cp36-none-any.whl size=19479 sha256=54181fe0ce31ebd3359ce7f26e20386884a7cdbcfb9b9cc74d4bcfe0305ed8d9\n",
            "  Stored in directory: /root/.cache/pip/wheels/4e/24/19/9b0e57545d7543ecec35c5faff78c058bf0c2506369c8b1d31\n",
            "  Building wheel for inflection (setup.py) ... \u001b[?25l\u001b[?25hdone\n",
            "  Created wheel for inflection: filename=inflection-0.3.1-cp36-none-any.whl size=6076 sha256=f34a1ad2636067055953fc04252cadcde55f0844775453094b97c291c2031145\n",
            "  Stored in directory: /root/.cache/pip/wheels/9f/5a/d3/6fc3bf6516d2a3eb7e18f9f28b472110b59325f3f258fe9211\n",
            "Successfully built qiskit docplex dlx docloud inflection\n",
            "\u001b[31mERROR: datascience 0.10.6 has requirement folium==0.2.1, but you'll have folium 0.8.3 which is incompatible.\u001b[0m\n",
            "Installing collected packages: sympy, marshmallow, marshmallow-polyfield, ply, qiskit-terra, qiskit-aer, websockets, nest-asyncio, ntlm-auth, asn1crypto, cryptography, requests-ntlm, qiskit-ibmq-provider, qiskit-ignis, docloud, docplex, pyscf, pyOpenSSL, ndg-httpsclient, inflection, more-itertools, quandl, dlx, qiskit-aqua, qiskit\n",
            "  Found existing installation: sympy 1.1.1\n",
            "    Uninstalling sympy-1.1.1:\n",
            "      Successfully uninstalled sympy-1.1.1\n",
            "  Found existing installation: more-itertools 7.2.0\n",
            "    Uninstalling more-itertools-7.2.0:\n",
            "      Successfully uninstalled more-itertools-7.2.0\n",
            "Successfully installed asn1crypto-0.24.0 cryptography-2.7 dlx-1.0.4 docloud-1.0.375 docplex-2.10.155 inflection-0.3.1 marshmallow-2.20.3 marshmallow-polyfield-3.2 more-itertools-5.0.0 ndg-httpsclient-0.5.1 nest-asyncio-1.0.0 ntlm-auth-1.4.0 ply-3.11 pyOpenSSL-19.0.0 pyscf-1.6.3 qiskit-0.12.0 qiskit-aer-0.3.0 qiskit-aqua-0.6.0 qiskit-ibmq-provider-0.3.2 qiskit-ignis-0.2.0 qiskit-terra-0.9.0 quandl-3.4.8 requests-ntlm-1.1.0 sympy-1.4 websockets-7.0\n"
          ],
          "name": "stdout"
        }
      ]
    },
    {
      "cell_type": "code",
      "metadata": {
        "id": "wuZVFydUdCAv",
        "colab_type": "code",
        "colab": {}
      },
      "source": [
        "from qiskit import *"
      ],
      "execution_count": 0,
      "outputs": []
    },
    {
      "cell_type": "code",
      "metadata": {
        "id": "4B93KBckdQC6",
        "colab_type": "code",
        "colab": {}
      },
      "source": [
        "qr=QuantumRegister(2)\n",
        "cr=ClassicalRegister(2)\n",
        "circuit=QuantumCircuit(qr,cr)"
      ],
      "execution_count": 0,
      "outputs": []
    },
    {
      "cell_type": "code",
      "metadata": {
        "id": "BkJ7p6Xdd947",
        "colab_type": "code",
        "colab": {}
      },
      "source": [
        "%matplotlib inline"
      ],
      "execution_count": 0,
      "outputs": []
    },
    {
      "cell_type": "code",
      "metadata": {
        "id": "6r5Wv0uleEB-",
        "colab_type": "code",
        "outputId": "361beb24-53f6-4fe3-9c7f-cc2b058f72c6",
        "colab": {
          "base_uri": "https://localhost:8080/",
          "height": 154
        }
      },
      "source": [
        "circuit.draw()"
      ],
      "execution_count": 0,
      "outputs": [
        {
          "output_type": "execute_result",
          "data": {
            "text/html": [
              "<pre style=\"word-wrap: normal;white-space: pre;background: #fff0;line-height: 1.1;font-family: &quot;Courier New&quot;,Courier,monospace\">         \n",
              "q2_0: |0>\n",
              "         \n",
              "q2_1: |0>\n",
              "         \n",
              " c2_0: 0 \n",
              "         \n",
              " c2_1: 0 \n",
              "         </pre>"
            ],
            "text/plain": [
              "<qiskit.visualization.text.TextDrawing at 0x7fafba981898>"
            ]
          },
          "metadata": {
            "tags": []
          },
          "execution_count": 27
        }
      ]
    },
    {
      "cell_type": "code",
      "metadata": {
        "id": "hpuKgoyteI97",
        "colab_type": "code",
        "outputId": "62e82646-7f89-474b-e84e-591524accfc8",
        "colab": {
          "base_uri": "https://localhost:8080/",
          "height": 34
        }
      },
      "source": [
        "circuit.h(qr[0])"
      ],
      "execution_count": 0,
      "outputs": [
        {
          "output_type": "execute_result",
          "data": {
            "text/plain": [
              "<qiskit.circuit.instructionset.InstructionSet at 0x7fafba963f98>"
            ]
          },
          "metadata": {
            "tags": []
          },
          "execution_count": 28
        }
      ]
    },
    {
      "cell_type": "code",
      "metadata": {
        "id": "bJLqDPKzebg2",
        "colab_type": "code",
        "outputId": "182bc5a7-be8e-4828-d178-1dfa8077f2fc",
        "colab": {
          "base_uri": "https://localhost:8080/",
          "height": 185
        }
      },
      "source": [
        "circuit.draw(output='mpl')"
      ],
      "execution_count": 0,
      "outputs": [
        {
          "output_type": "execute_result",
          "data": {
            "image/png": "[encoded data removed]",
            "text/plain": [
              "<Figure size 227.556x204.68 with 1 Axes>"
            ]
          },
          "metadata": {
            "tags": []
          },
          "execution_count": 29
        }
      ]
    },
    {
      "cell_type": "code",
      "metadata": {
        "id": "yajhZRHzeeL3",
        "colab_type": "code",
        "outputId": "14db261a-2d8d-4faf-98ba-61c4fb713715",
        "colab": {
          "base_uri": "https://localhost:8080/",
          "height": 34
        }
      },
      "source": [
        "circuit.cx(qr[0],qr[1])"
      ],
      "execution_count": 0,
      "outputs": [
        {
          "output_type": "execute_result",
          "data": {
            "text/plain": [
              "<qiskit.circuit.instructionset.InstructionSet at 0x7fafba0872e8>"
            ]
          },
          "metadata": {
            "tags": []
          },
          "execution_count": 30
        }
      ]
    },
    {
      "cell_type": "code",
      "metadata": {
        "id": "KCTtIYoxfF6-",
        "colab_type": "code",
        "outputId": "4433037c-dfc9-41c1-dc20-5503a02d63f8",
        "colab": {
          "base_uri": "https://localhost:8080/",
          "height": 185
        }
      },
      "source": [
        "circuit.draw(output='mpl')"
      ],
      "execution_count": 0,
      "outputs": [
        {
          "output_type": "execute_result",
          "data": {
            "image/png": "[encoded data removed]",
            "text/plain": [
              "<Figure size 287.756x204.68 with 1 Axes>"
            ]
          },
          "metadata": {
            "tags": []
          },
          "execution_count": 31
        }
      ]
    },
    {
      "cell_type": "code",
      "metadata": {
        "id": "2SBawL1AfK8g",
        "colab_type": "code",
        "outputId": "9f88fb93-a868-4237-f314-5de28a65ba63",
        "colab": {
          "base_uri": "https://localhost:8080/",
          "height": 34
        }
      },
      "source": [
        "circuit.measure(qr,cr)"
      ],
      "execution_count": 0,
      "outputs": [
        {
          "output_type": "execute_result",
          "data": {
            "text/plain": [
              "<qiskit.circuit.instructionset.InstructionSet at 0x7fafba038ac8>"
            ]
          },
          "metadata": {
            "tags": []
          },
          "execution_count": 32
        }
      ]
    },
    {
      "cell_type": "code",
      "metadata": {
        "id": "aAqcYH_ygGLy",
        "colab_type": "code",
        "outputId": "3a0c4625-10de-41b8-f164-adf34f53f799",
        "colab": {
          "base_uri": "https://localhost:8080/",
          "height": 185
        }
      },
      "source": [
        "circuit.draw(output='mpl')"
      ],
      "execution_count": 0,
      "outputs": [
        {
          "output_type": "execute_result",
          "data": {
            "image/png": "[encoded data removed]",
            "text/plain": [
              "<Figure size 408.156x204.68 with 1 Axes>"
            ]
          },
          "metadata": {
            "tags": []
          },
          "execution_count": 33
        }
      ]
    },
    {
      "cell_type": "code",
      "metadata": {
        "id": "-UrK3wypgL7Z",
        "colab_type": "code",
        "colab": {}
      },
      "source": [
        "simulator=Aer.get_backend('qasm_simulator')"
      ],
      "execution_count": 0,
      "outputs": []
    },
    {
      "cell_type": "code",
      "metadata": {
        "id": "raqPsCNzgmZJ",
        "colab_type": "code",
        "colab": {}
      },
      "source": [
        "r=execute(circuit,backend=simulator).result()"
      ],
      "execution_count": 0,
      "outputs": []
    },
    {
      "cell_type": "code",
      "metadata": {
        "id": "-oRIMT6kgub8",
        "colab_type": "code",
        "colab": {}
      },
      "source": [
        "from qiskit.tools.visualization import plot_histogram as pl"
      ],
      "execution_count": 0,
      "outputs": []
    },
    {
      "cell_type": "code",
      "metadata": {
        "id": "AgrLujHphB3t",
        "colab_type": "code",
        "outputId": "c805de57-3df5-40cd-e672-b17f28543840",
        "colab": {
          "base_uri": "https://localhost:8080/",
          "height": 335
        }
      },
      "source": [
        "pl(r.get_counts(circuit))"
      ],
      "execution_count": 0,
      "outputs": [
        {
          "output_type": "execute_result",
          "data": {
            "image/png": "[encoded data removed]",
            "text/plain": [
              "<Figure size 504x360 with 1 Axes>"
            ]
          },
          "metadata": {
            "tags": []
          },
          "execution_count": 45
        }
      ]
    },
    {
      "cell_type": "code",
      "metadata": {
        "id": "0CjFAHM8hQ6F",
        "colab_type": "code",
        "colab": {}
      },
      "source": [
        ""
      ],
      "execution_count": 0,
      "outputs": []
    }
  ]
}